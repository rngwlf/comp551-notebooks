{
  "nbformat": 4,
  "nbformat_minor": 0,
  "metadata": {
    "colab": {
      "provenance": [],
      "collapsed_sections": [
        "U4zKRV2NqFyP",
        "ndfGvqJ5qmFk"
      ],
      "toc_visible": true,
      "include_colab_link": true
    },
    "kernelspec": {
      "name": "python3",
      "display_name": "Python 3"
    },
    "language_info": {
      "name": "python"
    }
  },
  "cells": [
    {
      "cell_type": "markdown",
      "metadata": {
        "id": "view-in-github",
        "colab_type": "text"
      },
      "source": [
        "<a href=\"https://colab.research.google.com/github/rngwlf/comp551-notebooks/blob/master/matrix_factorization.ipynb\" target=\"_parent\"><img src=\"https://colab.research.google.com/assets/colab-badge.svg\" alt=\"Open In Colab\"/></a>"
      ]
    },
    {
      "cell_type": "markdown",
      "source": [
        "# Model"
      ],
      "metadata": {
        "id": "bYtYnVWXl1ij"
      }
    },
    {
      "cell_type": "markdown",
      "source": [
        "### Setting"
      ],
      "metadata": {
        "id": "U4zKRV2NqFyP"
      }
    },
    {
      "cell_type": "code",
      "source": [
        "import numpy as np\n",
        "import pandas as pd\n",
        "import collections\n",
        "from matplotlib import pyplot as plt\n",
        "from IPython import display\n",
        "import tensorflow.compat.v1 as tf\n",
        "tf.disable_v2_behavior()\n",
        "tf.logging.set_verbosity(tf.logging.ERROR)"
      ],
      "metadata": {
        "id": "pW7nO9-xp_Sh"
      },
      "execution_count": null,
      "outputs": []
    },
    {
      "cell_type": "markdown",
      "source": [
        "Assume we have dataframes: \n",
        "\n",
        "ratings with column user_id, movie_id, rating\n",
        "\n",
        "users with column user_id,... (here the users are those who have ratings)\n",
        "\n",
        "movies with movie_id, genre, ... (here the movies are those who have ratings)"
      ],
      "metadata": {
        "id": "rKJx2Q-7W9Ed"
      }
    },
    {
      "cell_type": "markdown",
      "source": [
        "### SparseTensor representation of Rating Matrix (for efficient representation)\n",
        "Input: A DataFrame represnting the user ratings for different movies. It should have three columns: userid, moveid, rating.\n",
        "\n",
        "Output: A SparseTensor\n",
        "\n",
        "A SparseTensor uses three tensors to represent the matrix: tf.SparseTensor(indices, values, dense_shape) represents a tensor, where a value  Aij=a  is encoded by setting indices[k] = [i, j] and values[k] = a"
      ],
      "metadata": {
        "id": "HNKk4L3TnTwi"
      }
    },
    {
      "cell_type": "code",
      "source": [
        "def build_rating_sparse_tensor(ratings_df):\n",
        "  \"\"\"\n",
        "  Args:\n",
        "    ratings_df: a pd.DataFrame with `user_id`, `movie_id` and `rating` columns.\n",
        "  Returns:\n",
        "    a tf.SparseTensor representing the ratings matrix.\n",
        "  \"\"\"\n",
        "  indices = ratings_df[['user_id', 'movie_id']].values\n",
        "  values = ratings_df['rating'].values\n",
        "  return tf.SparseTensor(\n",
        "      indices=indices,\n",
        "      values=values,\n",
        "      dense_shape=[users.shape[0], movies.shape[0]])"
      ],
      "metadata": {
        "id": "10qTDzg0pwzo"
      },
      "execution_count": null,
      "outputs": []
    },
    {
      "cell_type": "code",
      "source": [
        "def split_dataframe(df, holdout_fraction=0.1):\n",
        "  \"\"\"Splits a DataFrame into training and test sets.\n",
        "  Args:\n",
        "    df: a dataframe.\n",
        "    holdout_fraction: fraction of dataframe rows to use in the test set.\n",
        "  Returns:\n",
        "    train: dataframe for training\n",
        "    test: dataframe for testing\n",
        "  \"\"\"\n",
        "  test = df.sample(frac=holdout_fraction, replace=False)\n",
        "  train = df[~df.index.isin(test.index)]\n",
        "  return train, test"
      ],
      "metadata": {
        "id": "5f_huDabLwOI"
      },
      "execution_count": null,
      "outputs": []
    },
    {
      "cell_type": "markdown",
      "source": [
        "Loss function: MSE"
      ],
      "metadata": {
        "id": "V8MkNQa6L4DY"
      }
    },
    {
      "cell_type": "code",
      "source": [
        "def sparse_mean_square_error(sparse_ratings, user_embeddings, movie_embeddings):\n",
        "  \"\"\"\n",
        "  Args:\n",
        "    sparse_ratings: A SparseTensor rating matrix, of dense_shape [N, M]\n",
        "    user_embeddings: A dense Tensor U of shape [N, k] where k is the embedding\n",
        "      dimension, such that U_i is the embedding of user i.\n",
        "    movie_embeddings: A dense Tensor V of shape [M, k] where k is the embedding\n",
        "      dimension, such that V_j is the embedding of movie j.\n",
        "  Returns:\n",
        "    A scalar Tensor representing the MSE between the true ratings and the\n",
        "      model's predictions.\n",
        "  \"\"\"\n",
        "  predictions = tf.gather_nd(\n",
        "      tf.matmul(user_embeddings, movie_embeddings, transpose_b=True),\n",
        "      sparse_ratings.indices)\n",
        "  loss = tf.losses.mean_squared_error(sparse_ratings.values, predictions)\n",
        "  return loss"
      ],
      "metadata": {
        "id": "edYp-O3jL_af"
      },
      "execution_count": null,
      "outputs": []
    },
    {
      "cell_type": "markdown",
      "source": [
        "### CFModel class\n",
        "This is a class to train a matrix factorization using gradient descent."
      ],
      "metadata": {
        "id": "ndfGvqJ5qmFk"
      }
    },
    {
      "cell_type": "code",
      "execution_count": null,
      "metadata": {
        "id": "CsnU0xuenRd8"
      },
      "outputs": [],
      "source": [
        "class CFModel(object):\n",
        "  \"\"\"Simple class that represents a collaborative filtering model\"\"\"\n",
        "  def __init__(self, embedding_vars, loss, metrics=None):\n",
        "    \"\"\"Initializes a CFModel.\n",
        "    Args:\n",
        "      embedding_vars: A dictionary of tf.Variables.\n",
        "      loss: A float Tensor. The loss to optimize.\n",
        "      metrics: optional list of dictionaries of Tensors. The metrics in each\n",
        "        dictionary will be plotted in a separate figure during training.\n",
        "    \"\"\"\n",
        "    self._embedding_vars = embedding_vars\n",
        "    self._loss = loss\n",
        "    self._metrics = metrics\n",
        "    self._embeddings = {k: None for k in embedding_vars}\n",
        "    self._session = None\n",
        "\n",
        "  @property\n",
        "  def embeddings(self):\n",
        "    \"\"\"The embeddings dictionary.\"\"\"\n",
        "    return self._embeddings\n",
        "\n",
        "  def train(self, num_iterations=100, learning_rate=1.0, plot_results=True,\n",
        "            optimizer=tf.train.GradientDescentOptimizer):\n",
        "    \"\"\"Trains the model.\n",
        "    Args:\n",
        "      iterations: number of iterations to run.\n",
        "      learning_rate: optimizer learning rate.\n",
        "      plot_results: whether to plot the results at the end of training.\n",
        "      optimizer: the optimizer to use. Default to GradientDescentOptimizer.\n",
        "    Returns:\n",
        "      The metrics dictionary evaluated at the last iteration.\n",
        "    \"\"\"\n",
        "    with self._loss.graph.as_default():\n",
        "      opt = optimizer(learning_rate)\n",
        "      train_op = opt.minimize(self._loss)\n",
        "      local_init_op = tf.group(\n",
        "          tf.variables_initializer(opt.variables()),\n",
        "          tf.local_variables_initializer())\n",
        "      if self._session is None:\n",
        "        self._session = tf.Session()\n",
        "        with self._session.as_default():\n",
        "          self._session.run(tf.global_variables_initializer())\n",
        "          self._session.run(tf.tables_initializer())\n",
        "          tf.train.start_queue_runners()\n",
        "\n",
        "    with self._session.as_default():\n",
        "      local_init_op.run()\n",
        "      iterations = []\n",
        "      metrics = self._metrics or ({},)\n",
        "      metrics_vals = [collections.defaultdict(list) for _ in self._metrics]\n",
        "\n",
        "      # Train and append results.\n",
        "      for i in range(num_iterations + 1):\n",
        "        _, results = self._session.run((train_op, metrics))\n",
        "        if (i % 10 == 0) or i == num_iterations:\n",
        "          print(\"\\r iteration %d: \" % i + \", \".join(\n",
        "                [\"%s=%f\" % (k, v) for r in results for k, v in r.items()]),\n",
        "                end='')\n",
        "          iterations.append(i)\n",
        "          for metric_val, result in zip(metrics_vals, results):\n",
        "            for k, v in result.items():\n",
        "              metric_val[k].append(v)\n",
        "\n",
        "      for k, v in self._embedding_vars.items():\n",
        "        self._embeddings[k] = v.eval()\n",
        "\n",
        "      if plot_results:\n",
        "        # Plot the metrics.\n",
        "        num_subplots = len(metrics)+1\n",
        "        fig = plt.figure()\n",
        "        fig.set_size_inches(num_subplots*10, 8)\n",
        "        for i, metric_vals in enumerate(metrics_vals):\n",
        "          ax = fig.add_subplot(1, num_subplots, i+1)\n",
        "          for k, v in metric_vals.items():\n",
        "            ax.plot(iterations, v, label=k)\n",
        "          ax.set_xlim([1, num_iterations])\n",
        "          ax.legend()\n",
        "      return results\n",
        "\n",
        "def build_model(ratings, embedding_dim=3, init_stddev=1.):\n",
        "  \"\"\"\n",
        "  Args:\n",
        "    ratings: a DataFrame of the ratings\n",
        "    embedding_dim: the dimension of the embedding vectors.\n",
        "    init_stddev: float, the standard deviation of the random initial embeddings.\n",
        "  Returns:\n",
        "    model: a CFModel.\n",
        "  \"\"\"\n",
        "  # Split the ratings DataFrame into train and test.\n",
        "  train_ratings, test_ratings = split_dataframe(ratings)\n",
        "  # SparseTensor representation of the train and test datasets.\n",
        "  A_train = build_rating_sparse_tensor(train_ratings)\n",
        "  A_test = build_rating_sparse_tensor(test_ratings)\n",
        "  print(A_test)\n",
        "  # Initialize the embeddings using a normal distribution.\n",
        "  U = tf.Variable(tf.random_normal(\n",
        "      [A_train.dense_shape[0], embedding_dim], stddev=init_stddev))\n",
        "  V = tf.Variable(tf.random_normal(\n",
        "      [A_train.dense_shape[1], embedding_dim], stddev=init_stddev))\n",
        "  train_loss = sparse_mean_square_error(A_train, U, V)\n",
        "  test_loss = sparse_mean_square_error(A_test, U, V)\n",
        "  metrics = {\n",
        "      'train_error': train_loss,\n",
        "      'test_error': test_loss\n",
        "  }\n",
        "  embeddings = {\n",
        "      \"user_id\": U,\n",
        "      \"movie_id\": V\n",
        "  }\n",
        "  return CFModel(embeddings, train_loss, [metrics])"
      ]
    },
    {
      "cell_type": "markdown",
      "source": [
        "### Give recommendataions\n"
      ],
      "metadata": {
        "id": "84g67FYbOglM"
      }
    },
    {
      "cell_type": "markdown",
      "source": [
        "Compute the scores using dot product or cosin."
      ],
      "metadata": {
        "id": "m0MuZUM_Olv_"
      }
    },
    {
      "cell_type": "code",
      "source": [
        "DOT = 'dot'\n",
        "COSINE = 'cosine'\n",
        "def compute_scores(query_embedding, item_embeddings, measure=DOT):\n",
        "  \"\"\"Computes the scores of the candidates given a query.\n",
        "  Args:\n",
        "    query_embedding: a vector of shape [k], representing the query embedding.\n",
        "    item_embeddings: a matrix of shape [N, k], such that row i is the embedding\n",
        "      of item i.\n",
        "    measure: a string specifying the similarity measure to be used. Can be\n",
        "      either DOT or COSINE.\n",
        "  Returns:\n",
        "    scores: a vector of shape [N], such that scores[i] is the score of item i.\n",
        "  \"\"\"\n",
        "  u = query_embedding\n",
        "  V = item_embeddings\n",
        "  if measure == COSINE:\n",
        "    V = V / np.linalg.norm(V, axis=1, keepdims=True)\n",
        "    u = u / np.linalg.norm(u)\n",
        "  scores = u.dot(V.T)\n",
        "  return scores"
      ],
      "metadata": {
        "id": "USSRr55WOgBw"
      },
      "execution_count": null,
      "outputs": []
    },
    {
      "cell_type": "markdown",
      "source": [
        "Rank the score and give the 20 highest ranking movies."
      ],
      "metadata": {
        "id": "iXS4IjAMPdF7"
      }
    },
    {
      "cell_type": "code",
      "source": [
        "def user_recommendations(model, uid, measure=DOT, exclude_rated=False, k=20):\n",
        "  \n",
        "  scores = compute_scores(\n",
        "      model.embeddings[\"user_id\"][uid], model.embeddings[\"movie_id\"], measure)\n",
        "  score_key = measure + ' score'\n",
        "  df = pd.DataFrame({\n",
        "      score_key: list(scores),\n",
        "      'movie_id': movies['movie_id'],\n",
        "      'titles': movies['title'],\n",
        "      #'genres': movies['all_genres'],\n",
        "  })\n",
        "  if exclude_rated:\n",
        "    # remove movies that are already rated\n",
        "    rated_movies = ratings[ratings.user_id == f\"uid\"][\"movie_id\"].values\n",
        "    df = df[df.movie_id.apply(lambda movie_id: movie_id not in rated_movies)]\n",
        "  display.display(df.sort_values([score_key], ascending=False).head(k))\n",
        "  return(df.sort_values([score_key], ascending=False)['titles'].head(k).tolist())"
      ],
      "metadata": {
        "id": "gYPGzMcHPaJJ"
      },
      "execution_count": null,
      "outputs": []
    },
    {
      "cell_type": "markdown",
      "source": [
        "# Test\n",
        "For now, use Movie lens 100k to test the model."
      ],
      "metadata": {
        "id": "WmSSNI6DluO9"
      }
    },
    {
      "cell_type": "markdown",
      "source": [
        "### Load data"
      ],
      "metadata": {
        "id": "1gCQLsLTmZtn"
      }
    },
    {
      "cell_type": "code",
      "source": [
        "from urllib.request import urlretrieve\n",
        "import zipfile\n",
        "urlretrieve(\"http://files.grouplens.org/datasets/movielens/ml-100k.zip\", \"movielens.zip\")\n",
        "zip_ref = zipfile.ZipFile('movielens.zip', \"r\")\n",
        "zip_ref.extractall()\n",
        "users_cols = ['user_id', 'age', 'sex', 'occupation', 'zip_code']\n",
        "users = pd.read_csv(\n",
        "    'ml-100k/u.user', sep='|', names=users_cols, encoding='latin-1')\n",
        "\n",
        "ratings_cols = ['user_id', 'movie_id', 'rating', 'unix_timestamp']\n",
        "ratings = pd.read_csv(\n",
        "    'ml-100k/u.data', sep='\\t', names=ratings_cols, encoding='latin-1')\n",
        "\n",
        "genre_cols = [\n",
        "    \"genre_unknown\", \"Action\", \"Adventure\", \"Animation\", \"Children\", \"Comedy\",\n",
        "    \"Crime\", \"Documentary\", \"Drama\", \"Fantasy\", \"Film-Noir\", \"Horror\",\n",
        "    \"Musical\", \"Mystery\", \"Romance\", \"Sci-Fi\", \"Thriller\", \"War\", \"Western\"\n",
        "]\n",
        "movies_cols = [\n",
        "    'movie_id', 'title', 'release_date', \"video_release_date\", \"imdb_url\"\n",
        "] + genre_cols\n",
        "movies = pd.read_csv(\n",
        "    'ml-100k/u.item', sep='|', names=movies_cols, encoding='latin-1')\n",
        "users[\"user_id\"] = users[\"user_id\"].apply(lambda x: str(x-1))\n",
        "movies[\"movie_id\"] = movies[\"movie_id\"].apply(lambda x: str(x-1))\n",
        "movies[\"year\"] = movies['release_date'].apply(lambda x: str(x).split('-')[-1])\n",
        "ratings[\"movie_id\"] = ratings[\"movie_id\"].apply(lambda x: str(x-1))\n",
        "ratings[\"user_id\"] = ratings[\"user_id\"].apply(lambda x: str(x-1))\n",
        "ratings[\"rating\"] = ratings[\"rating\"].apply(lambda x: float(x))\n",
        "\n",
        "print(users)\n",
        "print(ratings)\n",
        "print(\"\\n\")\n",
        "print(ratings[\"user_id\"].value_counts())\n",
        "print(\"All users rated some movies\")\n",
        "print(movies)"
      ],
      "metadata": {
        "colab": {
          "base_uri": "https://localhost:8080/"
        },
        "id": "h0rCQrm_V2DO",
        "outputId": "3c3f6744-07aa-42b5-8a2c-6f764d65c8ae"
      },
      "execution_count": null,
      "outputs": [
        {
          "output_type": "stream",
          "name": "stdout",
          "text": [
            "    user_id  age sex     occupation zip_code\n",
            "0         0   24   M     technician    85711\n",
            "1         1   53   F          other    94043\n",
            "2         2   23   M         writer    32067\n",
            "3         3   24   M     technician    43537\n",
            "4         4   33   F          other    15213\n",
            "..      ...  ...  ..            ...      ...\n",
            "938     938   26   F        student    33319\n",
            "939     939   32   M  administrator    02215\n",
            "940     940   20   M        student    97229\n",
            "941     941   48   F      librarian    78209\n",
            "942     942   22   M        student    77841\n",
            "\n",
            "[943 rows x 5 columns]\n",
            "      user_id movie_id  rating  unix_timestamp\n",
            "0         195      241     3.0       881250949\n",
            "1         185      301     3.0       891717742\n",
            "2          21      376     1.0       878887116\n",
            "3         243       50     2.0       880606923\n",
            "4         165      345     1.0       886397596\n",
            "...       ...      ...     ...             ...\n",
            "99995     879      475     3.0       880175444\n",
            "99996     715      203     5.0       879795543\n",
            "99997     275     1089     1.0       874795795\n",
            "99998      12      224     2.0       882399156\n",
            "99999      11      202     3.0       879959583\n",
            "\n",
            "[100000 rows x 4 columns]\n",
            "\n",
            "\n",
            "404    737\n",
            "654    685\n",
            "12     636\n",
            "449    540\n",
            "275    518\n",
            "      ... \n",
            "440     20\n",
            "35      20\n",
            "811     20\n",
            "894     20\n",
            "92      20\n",
            "Name: user_id, Length: 943, dtype: int64\n",
            "All users rated some movies\n",
            "     movie_id                                      title release_date  \\\n",
            "0           0                           Toy Story (1995)  01-Jan-1995   \n",
            "1           1                           GoldenEye (1995)  01-Jan-1995   \n",
            "2           2                          Four Rooms (1995)  01-Jan-1995   \n",
            "3           3                          Get Shorty (1995)  01-Jan-1995   \n",
            "4           4                             Copycat (1995)  01-Jan-1995   \n",
            "...       ...                                        ...          ...   \n",
            "1677     1677                          Mat' i syn (1997)  06-Feb-1998   \n",
            "1678     1678                           B. Monkey (1998)  06-Feb-1998   \n",
            "1679     1679                       Sliding Doors (1998)  01-Jan-1998   \n",
            "1680     1680                        You So Crazy (1994)  01-Jan-1994   \n",
            "1681     1681  Scream of Stone (Schrei aus Stein) (1991)  08-Mar-1996   \n",
            "\n",
            "      video_release_date                                           imdb_url  \\\n",
            "0                    NaN  http://us.imdb.com/M/title-exact?Toy%20Story%2...   \n",
            "1                    NaN  http://us.imdb.com/M/title-exact?GoldenEye%20(...   \n",
            "2                    NaN  http://us.imdb.com/M/title-exact?Four%20Rooms%...   \n",
            "3                    NaN  http://us.imdb.com/M/title-exact?Get%20Shorty%...   \n",
            "4                    NaN  http://us.imdb.com/M/title-exact?Copycat%20(1995)   \n",
            "...                  ...                                                ...   \n",
            "1677                 NaN  http://us.imdb.com/M/title-exact?Mat%27+i+syn+...   \n",
            "1678                 NaN  http://us.imdb.com/M/title-exact?B%2E+Monkey+(...   \n",
            "1679                 NaN      http://us.imdb.com/Title?Sliding+Doors+(1998)   \n",
            "1680                 NaN  http://us.imdb.com/M/title-exact?You%20So%20Cr...   \n",
            "1681                 NaN  http://us.imdb.com/M/title-exact?Schrei%20aus%...   \n",
            "\n",
            "      genre_unknown  Action  Adventure  Animation  Children  ...  Film-Noir  \\\n",
            "0                 0       0          0          1         1  ...          0   \n",
            "1                 0       1          1          0         0  ...          0   \n",
            "2                 0       0          0          0         0  ...          0   \n",
            "3                 0       1          0          0         0  ...          0   \n",
            "4                 0       0          0          0         0  ...          0   \n",
            "...             ...     ...        ...        ...       ...  ...        ...   \n",
            "1677              0       0          0          0         0  ...          0   \n",
            "1678              0       0          0          0         0  ...          0   \n",
            "1679              0       0          0          0         0  ...          0   \n",
            "1680              0       0          0          0         0  ...          0   \n",
            "1681              0       0          0          0         0  ...          0   \n",
            "\n",
            "      Horror  Musical  Mystery  Romance  Sci-Fi  Thriller  War  Western  year  \n",
            "0          0        0        0        0       0         0    0        0  1995  \n",
            "1          0        0        0        0       0         1    0        0  1995  \n",
            "2          0        0        0        0       0         1    0        0  1995  \n",
            "3          0        0        0        0       0         0    0        0  1995  \n",
            "4          0        0        0        0       0         1    0        0  1995  \n",
            "...      ...      ...      ...      ...     ...       ...  ...      ...   ...  \n",
            "1677       0        0        0        0       0         0    0        0  1998  \n",
            "1678       0        0        0        1       0         1    0        0  1998  \n",
            "1679       0        0        0        1       0         0    0        0  1998  \n",
            "1680       0        0        0        0       0         0    0        0  1994  \n",
            "1681       0        0        0        0       0         0    0        0  1996  \n",
            "\n",
            "[1682 rows x 25 columns]\n"
          ]
        }
      ]
    },
    {
      "cell_type": "markdown",
      "source": [
        "### Train model and predict"
      ],
      "metadata": {
        "id": "7KnUNu0U6r61"
      }
    },
    {
      "cell_type": "code",
      "source": [
        "model = build_model(ratings, embedding_dim=30, init_stddev=0.5)\n",
        "model.train(num_iterations=500, learning_rate=10.)"
      ],
      "metadata": {
        "colab": {
          "base_uri": "https://localhost:8080/",
          "height": 539
        },
        "id": "e6lIVraOq6Ly",
        "outputId": "b25cbb67-f7a6-4866-8bfa-93aa827c7062"
      },
      "execution_count": null,
      "outputs": [
        {
          "output_type": "stream",
          "name": "stdout",
          "text": [
            "SparseTensor(indices=Tensor(\"SparseTensor_7/indices:0\", shape=(10000, 2), dtype=int64), values=Tensor(\"SparseTensor_7/values:0\", shape=(10000,), dtype=float64), dense_shape=Tensor(\"SparseTensor_7/dense_shape:0\", shape=(2,), dtype=int64))\n",
            " iteration 500: train_error=0.503862, test_error=1.301145"
          ]
        },
        {
          "output_type": "execute_result",
          "data": {
            "text/plain": [
              "[{'train_error': 0.50386184, 'test_error': 1.3011453}]"
            ]
          },
          "metadata": {},
          "execution_count": 31
        },
        {
          "output_type": "display_data",
          "data": {
            "text/plain": [
              "<Figure size 1440x576 with 1 Axes>"
            ],
            "image/png": "[encoded data removed]"
          },
          "metadata": {
            "needs_background": "light"
          }
        }
      ]
    },
    {
      "cell_type": "code",
      "source": [
        "print(user_recommendations(model, uid=3, measure=COSINE, exclude_rated=True, k=20))"
      ],
      "metadata": {
        "colab": {
          "base_uri": "https://localhost:8080/",
          "height": 714
        },
        "id": "yqOX3JfisZ5M",
        "outputId": "d235154d-f1ea-4858-9a27-cb17598d5b53"
      },
      "execution_count": null,
      "outputs": [
        {
          "output_type": "display_data",
          "data": {
            "text/plain": [
              "      cosine score movie_id                                          titles\n",
              "463       0.738311      463                     Vanya on 42nd Street (1994)\n",
              "432       0.725128      432                                 Heathers (1989)\n",
              "269       0.717548      269                                  Gattaca (1997)\n",
              "729       0.684877      729          Queen Margot (Reine Margot, La) (1994)\n",
              "167       0.682280      167          Monty Python and the Holy Grail (1974)\n",
              "543       0.671192      543  Things to Do in Denver when You're Dead (1995)\n",
              "1038      0.667071     1038                                   Hamlet (1996)\n",
              "937       0.657259      937                      Smile Like Yours, A (1997)\n",
              "247       0.657027      247                      Grosse Pointe Blank (1997)\n",
              "153       0.650709      153             Monty Python's Life of Brian (1979)\n",
              "479       0.647617      479                       North by Northwest (1959)\n",
              "1277      0.646327     1277                                   Selena (1997)\n",
              "49        0.639596       49                                Star Wars (1977)\n",
              "268       0.639470      268                          Full Monty, The (1997)\n",
              "1272      0.636726     1272                           Color of Night (1994)\n",
              "964       0.632879      964                               Funny Face (1957)\n",
              "331       0.631719      331                           Kiss the Girls (1997)\n",
              "176       0.631485      176          Good, The Bad and The Ugly, The (1966)\n",
              "272       0.630165      272                                     Heat (1995)\n",
              "171       0.626296      171                 Empire Strikes Back, The (1980)"
            ],
            "text/html": [
              "\n",
              "  <div id=\"df-9c23b7f7-93ec-46c9-a88d-e5da079160dc\">\n",
              "    <div class=\"colab-df-container\">\n",
              "      <div>\n",
              "<style scoped>\n",
              "    .dataframe tbody tr th:only-of-type {\n",
              "        vertical-align: middle;\n",
              "    }\n",
              "\n",
              "    .dataframe tbody tr th {\n",
              "        vertical-align: top;\n",
              "    }\n",
              "\n",
              "    .dataframe thead th {\n",
              "        text-align: right;\n",
              "    }\n",
              "</style>\n",
              "<table border=\"1\" class=\"dataframe\">\n",
              "  <thead>\n",
              "    <tr style=\"text-align: right;\">\n",
              "      <th></th>\n",
              "      <th>cosine score</th>\n",
              "      <th>movie_id</th>\n",
              "      <th>titles</th>\n",
              "    </tr>\n",
              "  </thead>\n",
              "  <tbody>\n",
              "    <tr>\n",
              "      <th>463</th>\n",
              "      <td>0.738311</td>\n",
              "      <td>463</td>\n",
              "      <td>Vanya on 42nd Street (1994)</td>\n",
              "    </tr>\n",
              "    <tr>\n",
              "      <th>432</th>\n",
              "      <td>0.725128</td>\n",
              "      <td>432</td>\n",
              "      <td>Heathers (1989)</td>\n",
              "    </tr>\n",
              "    <tr>\n",
              "      <th>269</th>\n",
              "      <td>0.717548</td>\n",
              "      <td>269</td>\n",
              "      <td>Gattaca (1997)</td>\n",
              "    </tr>\n",
              "    <tr>\n",
              "      <th>729</th>\n",
              "      <td>0.684877</td>\n",
              "      <td>729</td>\n",
              "      <td>Queen Margot (Reine Margot, La) (1994)</td>\n",
              "    </tr>\n",
              "    <tr>\n",
              "      <th>167</th>\n",
              "      <td>0.682280</td>\n",
              "      <td>167</td>\n",
              "      <td>Monty Python and the Holy Grail (1974)</td>\n",
              "    </tr>\n",
              "    <tr>\n",
              "      <th>543</th>\n",
              "      <td>0.671192</td>\n",
              "      <td>543</td>\n",
              "      <td>Things to Do in Denver when You're Dead (1995)</td>\n",
              "    </tr>\n",
              "    <tr>\n",
              "      <th>1038</th>\n",
              "      <td>0.667071</td>\n",
              "      <td>1038</td>\n",
              "      <td>Hamlet (1996)</td>\n",
              "    </tr>\n",
              "    <tr>\n",
              "      <th>937</th>\n",
              "      <td>0.657259</td>\n",
              "      <td>937</td>\n",
              "      <td>Smile Like Yours, A (1997)</td>\n",
              "    </tr>\n",
              "    <tr>\n",
              "      <th>247</th>\n",
              "      <td>0.657027</td>\n",
              "      <td>247</td>\n",
              "      <td>Grosse Pointe Blank (1997)</td>\n",
              "    </tr>\n",
              "    <tr>\n",
              "      <th>153</th>\n",
              "      <td>0.650709</td>\n",
              "      <td>153</td>\n",
              "      <td>Monty Python's Life of Brian (1979)</td>\n",
              "    </tr>\n",
              "    <tr>\n",
              "      <th>479</th>\n",
              "      <td>0.647617</td>\n",
              "      <td>479</td>\n",
              "      <td>North by Northwest (1959)</td>\n",
              "    </tr>\n",
              "    <tr>\n",
              "      <th>1277</th>\n",
              "      <td>0.646327</td>\n",
              "      <td>1277</td>\n",
              "      <td>Selena (1997)</td>\n",
              "    </tr>\n",
              "    <tr>\n",
              "      <th>49</th>\n",
              "      <td>0.639596</td>\n",
              "      <td>49</td>\n",
              "      <td>Star Wars (1977)</td>\n",
              "    </tr>\n",
              "    <tr>\n",
              "      <th>268</th>\n",
              "      <td>0.639470</td>\n",
              "      <td>268</td>\n",
              "      <td>Full Monty, The (1997)</td>\n",
              "    </tr>\n",
              "    <tr>\n",
              "      <th>1272</th>\n",
              "      <td>0.636726</td>\n",
              "      <td>1272</td>\n",
              "      <td>Color of Night (1994)</td>\n",
              "    </tr>\n",
              "    <tr>\n",
              "      <th>964</th>\n",
              "      <td>0.632879</td>\n",
              "      <td>964</td>\n",
              "      <td>Funny Face (1957)</td>\n",
              "    </tr>\n",
              "    <tr>\n",
              "      <th>331</th>\n",
              "      <td>0.631719</td>\n",
              "      <td>331</td>\n",
              "      <td>Kiss the Girls (1997)</td>\n",
              "    </tr>\n",
              "    <tr>\n",
              "      <th>176</th>\n",
              "      <td>0.631485</td>\n",
              "      <td>176</td>\n",
              "      <td>Good, The Bad and The Ugly, The (1966)</td>\n",
              "    </tr>\n",
              "    <tr>\n",
              "      <th>272</th>\n",
              "      <td>0.630165</td>\n",
              "      <td>272</td>\n",
              "      <td>Heat (1995)</td>\n",
              "    </tr>\n",
              "    <tr>\n",
              "      <th>171</th>\n",
              "      <td>0.626296</td>\n",
              "      <td>171</td>\n",
              "      <td>Empire Strikes Back, The (1980)</td>\n",
              "    </tr>\n",
              "  </tbody>\n",
              "</table>\n",
              "</div>\n",
              "      <button class=\"colab-df-convert\" onclick=\"convertToInteractive('df-9c23b7f7-93ec-46c9-a88d-e5da079160dc')\"\n",
              "              title=\"Convert this dataframe to an interactive table.\"\n",
              "              style=\"display:none;\">\n",
              "        \n",
              "  <svg xmlns=\"http://www.w3.org/2000/svg\" height=\"24px\"viewBox=\"0 0 24 24\"\n",
              "       width=\"24px\">\n",
              "    <path d=\"M0 0h24v24H0V0z\" fill=\"none\"/>\n",
              "    <path d=\"M18.56 5.44l.94 2.06.94-2.06 2.06-.94-2.06-.94-.94-2.06-.94 2.06-2.06.94zm-11 1L8.5 8.5l.94-2.06 2.06-.94-2.06-.94L8.5 2.5l-.94 2.06-2.06.94zm10 10l.94 2.06.94-2.06 2.06-.94-2.06-.94-.94-2.06-.94 2.06-2.06.94z\"/><path d=\"M17.41 7.96l-1.37-1.37c-.4-.4-.92-.59-1.43-.59-.52 0-1.04.2-1.43.59L10.3 9.45l-7.72 7.72c-.78.78-.78 2.05 0 2.83L4 21.41c.39.39.9.59 1.41.59.51 0 1.02-.2 1.41-.59l7.78-7.78 2.81-2.81c.8-.78.8-2.07 0-2.86zM5.41 20L4 18.59l7.72-7.72 1.47 1.35L5.41 20z\"/>\n",
              "  </svg>\n",
              "      </button>\n",
              "      \n",
              "  <style>\n",
              "    .colab-df-container {\n",
              "      display:flex;\n",
              "      flex-wrap:wrap;\n",
              "      gap: 12px;\n",
              "    }\n",
              "\n",
              "    .colab-df-convert {\n",
              "      background-color: #E8F0FE;\n",
              "      border: none;\n",
              "      border-radius: 50%;\n",
              "      cursor: pointer;\n",
              "      display: none;\n",
              "      fill: #1967D2;\n",
              "      height: 32px;\n",
              "      padding: 0 0 0 0;\n",
              "      width: 32px;\n",
              "    }\n",
              "\n",
              "    .colab-df-convert:hover {\n",
              "      background-color: #E2EBFA;\n",
              "      box-shadow: 0px 1px 2px rgba(60, 64, 67, 0.3), 0px 1px 3px 1px rgba(60, 64, 67, 0.15);\n",
              "      fill: #174EA6;\n",
              "    }\n",
              "\n",
              "    [theme=dark] .colab-df-convert {\n",
              "      background-color: #3B4455;\n",
              "      fill: #D2E3FC;\n",
              "    }\n",
              "\n",
              "    [theme=dark] .colab-df-convert:hover {\n",
              "      background-color: #434B5C;\n",
              "      box-shadow: 0px 1px 3px 1px rgba(0, 0, 0, 0.15);\n",
              "      filter: drop-shadow(0px 1px 2px rgba(0, 0, 0, 0.3));\n",
              "      fill: #FFFFFF;\n",
              "    }\n",
              "  </style>\n",
              "\n",
              "      <script>\n",
              "        const buttonEl =\n",
              "          document.querySelector('#df-9c23b7f7-93ec-46c9-a88d-e5da079160dc button.colab-df-convert');\n",
              "        buttonEl.style.display =\n",
              "          google.colab.kernel.accessAllowed ? 'block' : 'none';\n",
              "\n",
              "        async function convertToInteractive(key) {\n",
              "          const element = document.querySelector('#df-9c23b7f7-93ec-46c9-a88d-e5da079160dc');\n",
              "          const dataTable =\n",
              "            await google.colab.kernel.invokeFunction('convertToInteractive',\n",
              "                                                     [key], {});\n",
              "          if (!dataTable) return;\n",
              "\n",
              "          const docLinkHtml = 'Like what you see? Visit the ' +\n",
              "            '<a target=\"_blank\" href=https://colab.research.google.com/notebooks/data_table.ipynb>data table notebook</a>'\n",
              "            + ' to learn more about interactive tables.';\n",
              "          element.innerHTML = '';\n",
              "          dataTable['output_type'] = 'display_data';\n",
              "          await google.colab.output.renderOutput(dataTable, element);\n",
              "          const docLink = document.createElement('div');\n",
              "          docLink.innerHTML = docLinkHtml;\n",
              "          element.appendChild(docLink);\n",
              "        }\n",
              "      </script>\n",
              "    </div>\n",
              "  </div>\n",
              "  "
            ]
          },
          "metadata": {}
        },
        {
          "output_type": "stream",
          "name": "stdout",
          "text": [
            "['Vanya on 42nd Street (1994)', 'Heathers (1989)', 'Gattaca (1997)', 'Queen Margot (Reine Margot, La) (1994)', 'Monty Python and the Holy Grail (1974)', \"Things to Do in Denver when You're Dead (1995)\", 'Hamlet (1996)', 'Smile Like Yours, A (1997)', 'Grosse Pointe Blank (1997)', \"Monty Python's Life of Brian (1979)\", 'North by Northwest (1959)', 'Selena (1997)', 'Star Wars (1977)', 'Full Monty, The (1997)', 'Color of Night (1994)', 'Funny Face (1957)', 'Kiss the Girls (1997)', 'Good, The Bad and The Ugly, The (1966)', 'Heat (1995)', 'Empire Strikes Back, The (1980)']\n"
          ]
        }
      ]
    }
  ]
}